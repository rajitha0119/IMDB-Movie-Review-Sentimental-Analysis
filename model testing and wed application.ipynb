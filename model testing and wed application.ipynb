{
 "cells": [
  {
   "cell_type": "code",
   "execution_count": 1,
   "id": "c660c0dc-51b8-43a5-a3dc-8dbbf8d8dbcc",
   "metadata": {},
   "outputs": [
    {
     "name": "stderr",
     "output_type": "stream",
     "text": [
      "WARNING:absl:Compiled the loaded model, but the compiled metrics have yet to be built. `model.compile_metrics` will be empty until you train or evaluate the model.\n"
     ]
    }
   ],
   "source": [
    "from keras.models import load_model\n",
    "import joblib\n",
    "from tensorflow.keras.preprocessing.sequence import pad_sequences\n",
    "\n",
    "model = load_model(\"model.h5\")\n",
    "tokenizer = joblib.load(\"tokenizer.pkl\")\n",
    "\n",
    "def predictive_system(review):\n",
    "  sequences = tokenizer.texts_to_sequences([review])\n",
    "  padded_sequence = pad_sequences(sequences, maxlen=200)\n",
    "  prediction = model.predict(padded_sequence)\n",
    "  sentiment = \"positive\" if prediction[0][0] > 0.5 else \"negative\"\n",
    "  return sentiment"
   ]
  },
  {
   "cell_type": "code",
   "execution_count": 2,
   "id": "4520c556-0e2c-4388-bbb1-25b9f2d90c14",
   "metadata": {},
   "outputs": [
    {
     "name": "stdout",
     "output_type": "stream",
     "text": [
      "\u001b[1m1/1\u001b[0m \u001b[32m━━━━━━━━━━━━━━━━━━━━\u001b[0m\u001b[37m\u001b[0m \u001b[1m1s\u001b[0m 942ms/step\n"
     ]
    }
   ],
   "source": [
    "review_sentiment = predictive_system(\"Beautiful cinematorgraphy\")"
   ]
  },
  {
   "cell_type": "code",
   "execution_count": 3,
   "id": "bf84b4d4-c3f0-44dc-836e-5a57fc0eca1f",
   "metadata": {},
   "outputs": [
    {
     "data": {
      "text/plain": [
       "'positive'"
      ]
     },
     "execution_count": 3,
     "metadata": {},
     "output_type": "execute_result"
    }
   ],
   "source": [
    "review_sentiment"
   ]
  },
  {
   "cell_type": "code",
   "execution_count": 4,
   "id": "59d35ec5-5312-42e0-8629-fc22ab4b4592",
   "metadata": {},
   "outputs": [
    {
     "name": "stdout",
     "output_type": "stream",
     "text": [
      "Collecting gradio\n",
      "  Downloading gradio-5.8.0-py3-none-any.whl.metadata (16 kB)\n",
      "Collecting aiofiles<24.0,>=22.0 (from gradio)\n",
      "  Downloading aiofiles-23.2.1-py3-none-any.whl.metadata (9.7 kB)\n",
      "Requirement already satisfied: anyio<5.0,>=3.0 in c:\\users\\raji\\anaconda3\\lib\\site-packages (from gradio) (4.2.0)\n",
      "Collecting fastapi<1.0,>=0.115.2 (from gradio)\n",
      "  Downloading fastapi-0.115.6-py3-none-any.whl.metadata (27 kB)\n",
      "Collecting ffmpy (from gradio)\n",
      "  Downloading ffmpy-0.4.0-py3-none-any.whl.metadata (2.9 kB)\n",
      "Collecting gradio-client==1.5.1 (from gradio)\n",
      "  Downloading gradio_client-1.5.1-py3-none-any.whl.metadata (7.1 kB)\n",
      "Requirement already satisfied: httpx>=0.24.1 in c:\\users\\raji\\anaconda3\\lib\\site-packages (from gradio) (0.27.0)\n",
      "Collecting huggingface-hub>=0.25.1 (from gradio)\n",
      "  Downloading huggingface_hub-0.26.3-py3-none-any.whl.metadata (13 kB)\n",
      "Requirement already satisfied: jinja2<4.0 in c:\\users\\raji\\anaconda3\\lib\\site-packages (from gradio) (3.1.4)\n",
      "Requirement already satisfied: markupsafe~=2.0 in c:\\users\\raji\\anaconda3\\lib\\site-packages (from gradio) (2.1.3)\n",
      "Requirement already satisfied: numpy<3.0,>=1.0 in c:\\users\\raji\\anaconda3\\lib\\site-packages (from gradio) (1.26.4)\n",
      "Collecting orjson~=3.0 (from gradio)\n",
      "  Downloading orjson-3.10.12-cp312-none-win_amd64.whl.metadata (42 kB)\n",
      "Requirement already satisfied: packaging in c:\\users\\raji\\anaconda3\\lib\\site-packages (from gradio) (24.1)\n",
      "Requirement already satisfied: pandas<3.0,>=1.0 in c:\\users\\raji\\anaconda3\\lib\\site-packages (from gradio) (2.2.2)\n",
      "Requirement already satisfied: pillow<12.0,>=8.0 in c:\\users\\raji\\anaconda3\\lib\\site-packages (from gradio) (10.4.0)\n",
      "Requirement already satisfied: pydantic>=2.0 in c:\\users\\raji\\anaconda3\\lib\\site-packages (from gradio) (2.8.2)\n",
      "Collecting pydub (from gradio)\n",
      "  Downloading pydub-0.25.1-py2.py3-none-any.whl.metadata (1.4 kB)\n",
      "Collecting python-multipart>=0.0.18 (from gradio)\n",
      "  Downloading python_multipart-0.0.19-py3-none-any.whl.metadata (1.8 kB)\n",
      "Requirement already satisfied: pyyaml<7.0,>=5.0 in c:\\users\\raji\\anaconda3\\lib\\site-packages (from gradio) (6.0.1)\n",
      "Collecting ruff>=0.2.2 (from gradio)\n",
      "  Downloading ruff-0.8.2-py3-none-win_amd64.whl.metadata (25 kB)\n",
      "Collecting safehttpx<0.2.0,>=0.1.6 (from gradio)\n",
      "  Downloading safehttpx-0.1.6-py3-none-any.whl.metadata (4.2 kB)\n",
      "Collecting semantic-version~=2.0 (from gradio)\n",
      "  Downloading semantic_version-2.10.0-py2.py3-none-any.whl.metadata (9.7 kB)\n",
      "Collecting starlette<1.0,>=0.40.0 (from gradio)\n",
      "  Downloading starlette-0.41.3-py3-none-any.whl.metadata (6.0 kB)\n",
      "Collecting tomlkit<0.14.0,>=0.12.0 (from gradio)\n",
      "  Downloading tomlkit-0.13.2-py3-none-any.whl.metadata (2.7 kB)\n",
      "Collecting typer<1.0,>=0.12 (from gradio)\n",
      "  Downloading typer-0.15.1-py3-none-any.whl.metadata (15 kB)\n",
      "Requirement already satisfied: typing-extensions~=4.0 in c:\\users\\raji\\anaconda3\\lib\\site-packages (from gradio) (4.11.0)\n",
      "Collecting uvicorn>=0.14.0 (from gradio)\n",
      "  Downloading uvicorn-0.32.1-py3-none-any.whl.metadata (6.6 kB)\n",
      "Requirement already satisfied: fsspec in c:\\users\\raji\\anaconda3\\lib\\site-packages (from gradio-client==1.5.1->gradio) (2024.6.1)\n",
      "Collecting websockets<15.0,>=10.0 (from gradio-client==1.5.1->gradio)\n",
      "  Downloading websockets-14.1-cp312-cp312-win_amd64.whl.metadata (6.9 kB)\n",
      "Requirement already satisfied: idna>=2.8 in c:\\users\\raji\\anaconda3\\lib\\site-packages (from anyio<5.0,>=3.0->gradio) (3.7)\n",
      "Requirement already satisfied: sniffio>=1.1 in c:\\users\\raji\\anaconda3\\lib\\site-packages (from anyio<5.0,>=3.0->gradio) (1.3.0)\n",
      "Requirement already satisfied: certifi in c:\\users\\raji\\anaconda3\\lib\\site-packages (from httpx>=0.24.1->gradio) (2024.8.30)\n",
      "Requirement already satisfied: httpcore==1.* in c:\\users\\raji\\anaconda3\\lib\\site-packages (from httpx>=0.24.1->gradio) (1.0.2)\n",
      "Requirement already satisfied: h11<0.15,>=0.13 in c:\\users\\raji\\anaconda3\\lib\\site-packages (from httpcore==1.*->httpx>=0.24.1->gradio) (0.14.0)\n",
      "Requirement already satisfied: filelock in c:\\users\\raji\\anaconda3\\lib\\site-packages (from huggingface-hub>=0.25.1->gradio) (3.13.1)\n",
      "Requirement already satisfied: requests in c:\\users\\raji\\anaconda3\\lib\\site-packages (from huggingface-hub>=0.25.1->gradio) (2.32.3)\n",
      "Requirement already satisfied: tqdm>=4.42.1 in c:\\users\\raji\\anaconda3\\lib\\site-packages (from huggingface-hub>=0.25.1->gradio) (4.66.5)\n",
      "Requirement already satisfied: python-dateutil>=2.8.2 in c:\\users\\raji\\anaconda3\\lib\\site-packages (from pandas<3.0,>=1.0->gradio) (2.9.0.post0)\n",
      "Requirement already satisfied: pytz>=2020.1 in c:\\users\\raji\\anaconda3\\lib\\site-packages (from pandas<3.0,>=1.0->gradio) (2024.1)\n",
      "Requirement already satisfied: tzdata>=2022.7 in c:\\users\\raji\\anaconda3\\lib\\site-packages (from pandas<3.0,>=1.0->gradio) (2023.3)\n",
      "Requirement already satisfied: annotated-types>=0.4.0 in c:\\users\\raji\\anaconda3\\lib\\site-packages (from pydantic>=2.0->gradio) (0.6.0)\n",
      "Requirement already satisfied: pydantic-core==2.20.1 in c:\\users\\raji\\anaconda3\\lib\\site-packages (from pydantic>=2.0->gradio) (2.20.1)\n",
      "Requirement already satisfied: click>=8.0.0 in c:\\users\\raji\\anaconda3\\lib\\site-packages (from typer<1.0,>=0.12->gradio) (8.1.7)\n",
      "Collecting shellingham>=1.3.0 (from typer<1.0,>=0.12->gradio)\n",
      "  Downloading shellingham-1.5.4-py2.py3-none-any.whl.metadata (3.5 kB)\n",
      "Requirement already satisfied: rich>=10.11.0 in c:\\users\\raji\\anaconda3\\lib\\site-packages (from typer<1.0,>=0.12->gradio) (13.7.1)\n",
      "Requirement already satisfied: colorama in c:\\users\\raji\\anaconda3\\lib\\site-packages (from click>=8.0.0->typer<1.0,>=0.12->gradio) (0.4.6)\n",
      "Requirement already satisfied: six>=1.5 in c:\\users\\raji\\anaconda3\\lib\\site-packages (from python-dateutil>=2.8.2->pandas<3.0,>=1.0->gradio) (1.16.0)\n",
      "Requirement already satisfied: markdown-it-py>=2.2.0 in c:\\users\\raji\\anaconda3\\lib\\site-packages (from rich>=10.11.0->typer<1.0,>=0.12->gradio) (2.2.0)\n",
      "Requirement already satisfied: pygments<3.0.0,>=2.13.0 in c:\\users\\raji\\anaconda3\\lib\\site-packages (from rich>=10.11.0->typer<1.0,>=0.12->gradio) (2.15.1)\n",
      "Requirement already satisfied: charset-normalizer<4,>=2 in c:\\users\\raji\\anaconda3\\lib\\site-packages (from requests->huggingface-hub>=0.25.1->gradio) (3.3.2)\n",
      "Requirement already satisfied: urllib3<3,>=1.21.1 in c:\\users\\raji\\anaconda3\\lib\\site-packages (from requests->huggingface-hub>=0.25.1->gradio) (2.2.3)\n",
      "Requirement already satisfied: mdurl~=0.1 in c:\\users\\raji\\anaconda3\\lib\\site-packages (from markdown-it-py>=2.2.0->rich>=10.11.0->typer<1.0,>=0.12->gradio) (0.1.0)\n",
      "Downloading gradio-5.8.0-py3-none-any.whl (57.2 MB)\n",
      "   ---------------------------------------- 0.0/57.2 MB ? eta -:--:--\n",
      "   ---------------------------------------- 0.0/57.2 MB ? eta -:--:--\n",
      "   ---------------------------------------- 0.0/57.2 MB ? eta -:--:--\n",
      "   ---------------------------------------- 0.3/57.2 MB ? eta -:--:--\n",
      "   ---------------------------------------- 0.3/57.2 MB ? eta -:--:--\n",
      "   ---------------------------------------- 0.3/57.2 MB ? eta -:--:--\n",
      "   ---------------------------------------- 0.3/57.2 MB ? eta -:--:--\n",
      "   ---------------------------------------- 0.5/57.2 MB 357.1 kB/s eta 0:02:39\n",
      "   ---------------------------------------- 0.5/57.2 MB 357.1 kB/s eta 0:02:39\n",
      "    --------------------------------------- 0.8/57.2 MB 441.7 kB/s eta 0:02:08\n",
      "    --------------------------------------- 0.8/57.2 MB 441.7 kB/s eta 0:02:08\n",
      "    --------------------------------------- 1.0/57.2 MB 498.4 kB/s eta 0:01:53\n",
      "    --------------------------------------- 1.3/57.2 MB 559.2 kB/s eta 0:01:40\n",
      "   - -------------------------------------- 1.6/57.2 MB 630.8 kB/s eta 0:01:29\n",
      "   - -------------------------------------- 1.8/57.2 MB 680.3 kB/s eta 0:01:22\n",
      "   - -------------------------------------- 2.1/57.2 MB 720.5 kB/s eta 0:01:17\n",
      "   - -------------------------------------- 2.4/57.2 MB 741.6 kB/s eta 0:01:14\n",
      "   - -------------------------------------- 2.4/57.2 MB 741.6 kB/s eta 0:01:14\n",
      "   -- ------------------------------------- 2.9/57.2 MB 802.9 kB/s eta 0:01:08\n",
      "   -- ------------------------------------- 2.9/57.2 MB 802.9 kB/s eta 0:01:08\n",
      "   -- ------------------------------------- 3.1/57.2 MB 831.2 kB/s eta 0:01:05\n",
      "   -- ------------------------------------- 3.7/57.2 MB 879.5 kB/s eta 0:01:01\n",
      "   -- ------------------------------------- 3.9/57.2 MB 906.8 kB/s eta 0:00:59\n",
      "   -- ------------------------------------- 4.2/57.2 MB 928.7 kB/s eta 0:00:58\n",
      "   --- ------------------------------------ 4.5/57.2 MB 952.0 kB/s eta 0:00:56\n",
      "   --- ------------------------------------ 5.0/57.2 MB 999.9 kB/s eta 0:00:53\n",
      "   --- ------------------------------------ 5.2/57.2 MB 1.0 MB/s eta 0:00:51\n",
      "   --- ------------------------------------ 5.5/57.2 MB 1.0 MB/s eta 0:00:51\n",
      "   ---- ----------------------------------- 5.8/57.2 MB 1.0 MB/s eta 0:00:51\n",
      "   ---- ----------------------------------- 6.0/57.2 MB 1.0 MB/s eta 0:00:50\n",
      "   ---- ----------------------------------- 6.3/57.2 MB 1.0 MB/s eta 0:00:49\n",
      "   ---- ----------------------------------- 6.6/57.2 MB 1.1 MB/s eta 0:00:48\n",
      "   ---- ----------------------------------- 6.8/57.2 MB 1.1 MB/s eta 0:00:47\n",
      "   ---- ----------------------------------- 7.1/57.2 MB 1.1 MB/s eta 0:00:47\n",
      "   ----- ---------------------------------- 7.6/57.2 MB 1.1 MB/s eta 0:00:45\n",
      "   ----- ---------------------------------- 7.9/57.2 MB 1.1 MB/s eta 0:00:45\n",
      "   ----- ---------------------------------- 8.1/57.2 MB 1.1 MB/s eta 0:00:44\n",
      "   ------ --------------------------------- 8.7/57.2 MB 1.2 MB/s eta 0:00:42\n",
      "   ------ --------------------------------- 8.9/57.2 MB 1.2 MB/s eta 0:00:42\n",
      "   ------ --------------------------------- 9.4/57.2 MB 1.2 MB/s eta 0:00:40\n",
      "   ------ --------------------------------- 9.7/57.2 MB 1.2 MB/s eta 0:00:40\n",
      "   ------- -------------------------------- 10.2/57.2 MB 1.2 MB/s eta 0:00:38\n",
      "   ------- -------------------------------- 10.7/57.2 MB 1.3 MB/s eta 0:00:37\n",
      "   ------- -------------------------------- 11.3/57.2 MB 1.3 MB/s eta 0:00:36\n",
      "   -------- ------------------------------- 11.8/57.2 MB 1.3 MB/s eta 0:00:35\n",
      "   -------- ------------------------------- 12.3/57.2 MB 1.3 MB/s eta 0:00:34\n",
      "   -------- ------------------------------- 12.8/57.2 MB 1.4 MB/s eta 0:00:33\n",
      "   --------- ------------------------------ 13.4/57.2 MB 1.4 MB/s eta 0:00:32\n",
      "   --------- ------------------------------ 14.2/57.2 MB 1.5 MB/s eta 0:00:30\n",
      "   ---------- ----------------------------- 14.9/57.2 MB 1.5 MB/s eta 0:00:29\n",
      "   ---------- ----------------------------- 15.5/57.2 MB 1.5 MB/s eta 0:00:28\n",
      "   ----------- ---------------------------- 16.0/57.2 MB 1.5 MB/s eta 0:00:27\n",
      "   ----------- ---------------------------- 17.0/57.2 MB 1.6 MB/s eta 0:00:25\n",
      "   ------------ --------------------------- 17.6/57.2 MB 1.6 MB/s eta 0:00:25\n",
      "   ------------ --------------------------- 18.1/57.2 MB 1.7 MB/s eta 0:00:24\n",
      "   ------------- -------------------------- 18.9/57.2 MB 1.7 MB/s eta 0:00:23\n",
      "   ------------- -------------------------- 19.9/57.2 MB 1.7 MB/s eta 0:00:22\n",
      "   -------------- ------------------------- 21.0/57.2 MB 1.8 MB/s eta 0:00:21\n",
      "   --------------- ------------------------ 21.8/57.2 MB 1.8 MB/s eta 0:00:20\n",
      "   --------------- ------------------------ 22.8/57.2 MB 1.9 MB/s eta 0:00:19\n",
      "   ---------------- ----------------------- 23.9/57.2 MB 1.9 MB/s eta 0:00:18\n",
      "   ----------------- ---------------------- 25.2/57.2 MB 2.0 MB/s eta 0:00:16\n",
      "   ------------------ --------------------- 26.0/57.2 MB 2.0 MB/s eta 0:00:16\n",
      "   ------------------ --------------------- 27.0/57.2 MB 2.1 MB/s eta 0:00:15\n",
      "   ------------------- -------------------- 27.8/57.2 MB 2.1 MB/s eta 0:00:14\n",
      "   -------------------- ------------------- 28.8/57.2 MB 2.2 MB/s eta 0:00:14\n",
      "   -------------------- ------------------- 29.9/57.2 MB 2.2 MB/s eta 0:00:13\n",
      "   --------------------- ------------------ 30.9/57.2 MB 2.2 MB/s eta 0:00:12\n",
      "   ---------------------- ----------------- 32.0/57.2 MB 2.3 MB/s eta 0:00:12\n",
      "   ----------------------- ---------------- 33.0/57.2 MB 2.3 MB/s eta 0:00:11\n",
      "   ----------------------- ---------------- 34.1/57.2 MB 2.4 MB/s eta 0:00:10\n",
      "   ------------------------ --------------- 35.1/57.2 MB 2.4 MB/s eta 0:00:10\n",
      "   ------------------------- -------------- 36.2/57.2 MB 2.4 MB/s eta 0:00:09\n",
      "   -------------------------- ------------- 37.2/57.2 MB 2.5 MB/s eta 0:00:09\n",
      "   -------------------------- ------------- 38.3/57.2 MB 2.5 MB/s eta 0:00:08\n",
      "   --------------------------- ------------ 39.3/57.2 MB 2.5 MB/s eta 0:00:08\n",
      "   ---------------------------- ----------- 40.4/57.2 MB 2.6 MB/s eta 0:00:07\n",
      "   ---------------------------- ----------- 41.4/57.2 MB 2.6 MB/s eta 0:00:07\n",
      "   ----------------------------- ---------- 42.5/57.2 MB 2.6 MB/s eta 0:00:06\n",
      "   ------------------------------ --------- 43.5/57.2 MB 2.7 MB/s eta 0:00:06\n",
      "   ------------------------------- -------- 44.6/57.2 MB 2.7 MB/s eta 0:00:05\n",
      "   ------------------------------- -------- 45.6/57.2 MB 2.7 MB/s eta 0:00:05\n",
      "   -------------------------------- ------- 46.7/57.2 MB 2.7 MB/s eta 0:00:04\n",
      "   --------------------------------- ------ 47.7/57.2 MB 2.8 MB/s eta 0:00:04\n",
      "   ---------------------------------- ----- 49.0/57.2 MB 2.8 MB/s eta 0:00:03\n",
      "   ----------------------------------- ---- 50.1/57.2 MB 2.8 MB/s eta 0:00:03\n",
      "   ----------------------------------- ---- 51.1/57.2 MB 2.9 MB/s eta 0:00:03\n",
      "   ------------------------------------ --- 51.9/57.2 MB 2.9 MB/s eta 0:00:02\n",
      "   ------------------------------------- -- 53.0/57.2 MB 2.9 MB/s eta 0:00:02\n",
      "   ------------------------------------- -- 54.0/57.2 MB 2.9 MB/s eta 0:00:02\n",
      "   -------------------------------------- - 55.1/57.2 MB 2.9 MB/s eta 0:00:01\n",
      "   ---------------------------------------  56.1/57.2 MB 3.0 MB/s eta 0:00:01\n",
      "   ---------------------------------------  57.1/57.2 MB 3.0 MB/s eta 0:00:01\n",
      "   ---------------------------------------  57.1/57.2 MB 3.0 MB/s eta 0:00:01\n",
      "   ---------------------------------------  57.1/57.2 MB 3.0 MB/s eta 0:00:01\n",
      "   ---------------------------------------- 57.2/57.2 MB 2.9 MB/s eta 0:00:00\n",
      "Downloading gradio_client-1.5.1-py3-none-any.whl (320 kB)\n",
      "Downloading aiofiles-23.2.1-py3-none-any.whl (15 kB)\n",
      "Downloading fastapi-0.115.6-py3-none-any.whl (94 kB)\n",
      "Downloading huggingface_hub-0.26.3-py3-none-any.whl (447 kB)\n",
      "Downloading orjson-3.10.12-cp312-none-win_amd64.whl (135 kB)\n",
      "Downloading python_multipart-0.0.19-py3-none-any.whl (24 kB)\n",
      "Downloading ruff-0.8.2-py3-none-win_amd64.whl (9.6 MB)\n",
      "   ---------------------------------------- 0.0/9.6 MB ? eta -:--:--\n",
      "   --- ------------------------------------ 0.8/9.6 MB 4.8 MB/s eta 0:00:02\n",
      "   ------- -------------------------------- 1.8/9.6 MB 5.0 MB/s eta 0:00:02\n",
      "   -------- ------------------------------- 2.1/9.6 MB 4.9 MB/s eta 0:00:02\n",
      "   -------- ------------------------------- 2.1/9.6 MB 4.9 MB/s eta 0:00:02\n",
      "   ------------- -------------------------- 3.1/9.6 MB 3.0 MB/s eta 0:00:03\n",
      "   ----------------- ---------------------- 4.2/9.6 MB 3.3 MB/s eta 0:00:02\n",
      "   --------------------- ------------------ 5.2/9.6 MB 3.5 MB/s eta 0:00:02\n",
      "   -------------------------- ------------- 6.3/9.6 MB 3.7 MB/s eta 0:00:01\n",
      "   ------------------------------ --------- 7.3/9.6 MB 3.9 MB/s eta 0:00:01\n",
      "   ---------------------------------- ----- 8.4/9.6 MB 4.0 MB/s eta 0:00:01\n",
      "   -------------------------------------- - 9.2/9.6 MB 4.0 MB/s eta 0:00:01\n",
      "   ---------------------------------------- 9.6/9.6 MB 3.8 MB/s eta 0:00:00\n",
      "Downloading safehttpx-0.1.6-py3-none-any.whl (8.7 kB)\n",
      "Downloading semantic_version-2.10.0-py2.py3-none-any.whl (15 kB)\n",
      "Downloading starlette-0.41.3-py3-none-any.whl (73 kB)\n",
      "Downloading tomlkit-0.13.2-py3-none-any.whl (37 kB)\n",
      "Downloading typer-0.15.1-py3-none-any.whl (44 kB)\n",
      "Downloading uvicorn-0.32.1-py3-none-any.whl (63 kB)\n",
      "Downloading ffmpy-0.4.0-py3-none-any.whl (5.8 kB)\n",
      "Downloading pydub-0.25.1-py2.py3-none-any.whl (32 kB)\n",
      "Downloading shellingham-1.5.4-py2.py3-none-any.whl (9.8 kB)\n",
      "Downloading websockets-14.1-cp312-cp312-win_amd64.whl (163 kB)\n",
      "Installing collected packages: pydub, websockets, tomlkit, shellingham, semantic-version, ruff, python-multipart, orjson, ffmpy, aiofiles, uvicorn, starlette, huggingface-hub, typer, safehttpx, gradio-client, fastapi, gradio\n",
      "  Attempting uninstall: tomlkit\n",
      "    Found existing installation: tomlkit 0.11.1\n",
      "    Uninstalling tomlkit-0.11.1:\n",
      "      Successfully uninstalled tomlkit-0.11.1\n",
      "Successfully installed aiofiles-23.2.1 fastapi-0.115.6 ffmpy-0.4.0 gradio-5.8.0 gradio-client-1.5.1 huggingface-hub-0.26.3 orjson-3.10.12 pydub-0.25.1 python-multipart-0.0.19 ruff-0.8.2 safehttpx-0.1.6 semantic-version-2.10.0 shellingham-1.5.4 starlette-0.41.3 tomlkit-0.13.2 typer-0.15.1 uvicorn-0.32.1 websockets-14.1\n"
     ]
    }
   ],
   "source": [
    "!pip install gradio"
   ]
  },
  {
   "cell_type": "code",
   "execution_count": 5,
   "id": "d5e076d8-c5d2-42e7-bda6-d22d3e38dd6d",
   "metadata": {},
   "outputs": [
    {
     "name": "stdout",
     "output_type": "stream",
     "text": [
      "* Running on local URL:  http://127.0.0.1:7860\n",
      "* Running on public URL: https://fbf2b50548ba8012c7.gradio.live\n",
      "\n",
      "This share link expires in 72 hours. For free permanent hosting and GPU upgrades, run `gradio deploy` from the terminal in the working directory to deploy to Hugging Face Spaces (https://huggingface.co/spaces)\n"
     ]
    },
    {
     "data": {
      "text/html": [
       "<div><iframe src=\"https://fbf2b50548ba8012c7.gradio.live\" width=\"100%\" height=\"500\" allow=\"autoplay; camera; microphone; clipboard-read; clipboard-write;\" frameborder=\"0\" allowfullscreen></iframe></div>"
      ],
      "text/plain": [
       "<IPython.core.display.HTML object>"
      ]
     },
     "metadata": {},
     "output_type": "display_data"
    },
    {
     "data": {
      "text/plain": []
     },
     "execution_count": 5,
     "metadata": {},
     "output_type": "execute_result"
    },
    {
     "name": "stdout",
     "output_type": "stream",
     "text": [
      "\u001b[1m1/1\u001b[0m \u001b[32m━━━━━━━━━━━━━━━━━━━━\u001b[0m\u001b[37m\u001b[0m \u001b[1m0s\u001b[0m 177ms/step\n",
      "Created dataset file at: .gradio\\flagged\\dataset1.csv\n",
      "\u001b[1m1/1\u001b[0m \u001b[32m━━━━━━━━━━━━━━━━━━━━\u001b[0m\u001b[37m\u001b[0m \u001b[1m0s\u001b[0m 125ms/step\n",
      "\u001b[1m1/1\u001b[0m \u001b[32m━━━━━━━━━━━━━━━━━━━━\u001b[0m\u001b[37m\u001b[0m \u001b[1m0s\u001b[0m 111ms/step\n",
      "\u001b[1m1/1\u001b[0m \u001b[32m━━━━━━━━━━━━━━━━━━━━\u001b[0m\u001b[37m\u001b[0m \u001b[1m0s\u001b[0m 125ms/step\n"
     ]
    }
   ],
   "source": [
    "import gradio as gr\n",
    "title = \"MOVIE SENTIMENT ANALYSIS APPLICATION\"\n",
    "\n",
    "app = gr.Interface(fn = predictive_system, inputs=\"textbox\", outputs=\"textbox\", title=title)\n",
    "\n",
    "app.launch(share=True)"
   ]
  },
  {
   "cell_type": "code",
   "execution_count": null,
   "id": "0eabac5c-320d-46e9-b6a9-ea10940a7dff",
   "metadata": {},
   "outputs": [],
   "source": []
  },
  {
   "cell_type": "code",
   "execution_count": null,
   "id": "2b24648c-80f9-4854-997b-77eeb4b73d3d",
   "metadata": {},
   "outputs": [],
   "source": []
  },
  {
   "cell_type": "code",
   "execution_count": null,
   "id": "b145160b-2f26-41df-ba02-920bdde09b11",
   "metadata": {},
   "outputs": [],
   "source": []
  }
 ],
 "metadata": {
  "kernelspec": {
   "display_name": "Python 3 (ipykernel)",
   "language": "python",
   "name": "python3"
  },
  "language_info": {
   "codemirror_mode": {
    "name": "ipython",
    "version": 3
   },
   "file_extension": ".py",
   "mimetype": "text/x-python",
   "name": "python",
   "nbconvert_exporter": "python",
   "pygments_lexer": "ipython3",
   "version": "3.12.7"
  }
 },
 "nbformat": 4,
 "nbformat_minor": 5
}
